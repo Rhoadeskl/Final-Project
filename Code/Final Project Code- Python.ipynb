{
 "cells": [
  {
   "cell_type": "code",
   "execution_count": 9,
   "id": "2ced959b",
   "metadata": {},
   "outputs": [],
   "source": [
    "import numpy as np\n",
    "import pandas as pd"
   ]
  },
  {
   "cell_type": "markdown",
   "id": "522314d2",
   "metadata": {},
   "source": [
    "### Imputting the data "
   ]
  },
  {
   "cell_type": "code",
   "execution_count": 10,
   "id": "d94f24c2",
   "metadata": {},
   "outputs": [],
   "source": [
    "Group = pd.read_csv('/Users/kendrarhoades/Desktop/Data Science/DSO110 Final Project/Data/Group.csv')"
   ]
  },
  {
   "cell_type": "code",
   "execution_count": 11,
   "id": "a095f95c",
   "metadata": {},
   "outputs": [
    {
     "data": {
      "text/html": [
       "<div>\n",
       "<style scoped>\n",
       "    .dataframe tbody tr th:only-of-type {\n",
       "        vertical-align: middle;\n",
       "    }\n",
       "\n",
       "    .dataframe tbody tr th {\n",
       "        vertical-align: top;\n",
       "    }\n",
       "\n",
       "    .dataframe thead th {\n",
       "        text-align: right;\n",
       "    }\n",
       "</style>\n",
       "<table border=\"1\" class=\"dataframe\">\n",
       "  <thead>\n",
       "    <tr style=\"text-align: right;\">\n",
       "      <th></th>\n",
       "      <th>Time</th>\n",
       "      <th>Latitude</th>\n",
       "      <th>Longitude</th>\n",
       "      <th>Sea Ice Freeboard</th>\n",
       "      <th>Sea Ice Thickness</th>\n",
       "      <th>Month/Day</th>\n",
       "    </tr>\n",
       "  </thead>\n",
       "  <tbody>\n",
       "    <tr>\n",
       "      <th>0</th>\n",
       "      <td>130352017</td>\n",
       "      <td>-74.753986</td>\n",
       "      <td>329.07295</td>\n",
       "      <td>0.306041</td>\n",
       "      <td>0.725051</td>\n",
       "      <td>NaN</td>\n",
       "    </tr>\n",
       "    <tr>\n",
       "      <th>1</th>\n",
       "      <td>130352017</td>\n",
       "      <td>-74.755459</td>\n",
       "      <td>329.07135</td>\n",
       "      <td>0.438596</td>\n",
       "      <td>1.039091</td>\n",
       "      <td>NaN</td>\n",
       "    </tr>\n",
       "    <tr>\n",
       "      <th>2</th>\n",
       "      <td>130352017</td>\n",
       "      <td>-74.756936</td>\n",
       "      <td>329.06974</td>\n",
       "      <td>0.238436</td>\n",
       "      <td>0.564885</td>\n",
       "      <td>NaN</td>\n",
       "    </tr>\n",
       "    <tr>\n",
       "      <th>3</th>\n",
       "      <td>130352017</td>\n",
       "      <td>-74.758417</td>\n",
       "      <td>329.06813</td>\n",
       "      <td>0.369677</td>\n",
       "      <td>0.875811</td>\n",
       "      <td>NaN</td>\n",
       "    </tr>\n",
       "    <tr>\n",
       "      <th>4</th>\n",
       "      <td>130352017</td>\n",
       "      <td>-74.762884</td>\n",
       "      <td>329.06329</td>\n",
       "      <td>0.218586</td>\n",
       "      <td>0.517859</td>\n",
       "      <td>NaN</td>\n",
       "    </tr>\n",
       "    <tr>\n",
       "      <th>...</th>\n",
       "      <td>...</td>\n",
       "      <td>...</td>\n",
       "      <td>...</td>\n",
       "      <td>...</td>\n",
       "      <td>...</td>\n",
       "      <td>...</td>\n",
       "    </tr>\n",
       "    <tr>\n",
       "      <th>1728972</th>\n",
       "      <td>153184663</td>\n",
       "      <td>-76.503334</td>\n",
       "      <td>318.42566</td>\n",
       "      <td>0.990996</td>\n",
       "      <td>2.549416</td>\n",
       "      <td>NaN</td>\n",
       "    </tr>\n",
       "    <tr>\n",
       "      <th>1728973</th>\n",
       "      <td>153184663</td>\n",
       "      <td>-76.501866</td>\n",
       "      <td>318.42358</td>\n",
       "      <td>1.276437</td>\n",
       "      <td>3.283738</td>\n",
       "      <td>NaN</td>\n",
       "    </tr>\n",
       "    <tr>\n",
       "      <th>1728974</th>\n",
       "      <td>153184663</td>\n",
       "      <td>-76.500400</td>\n",
       "      <td>318.42151</td>\n",
       "      <td>1.428083</td>\n",
       "      <td>3.673859</td>\n",
       "      <td>NaN</td>\n",
       "    </tr>\n",
       "    <tr>\n",
       "      <th>1728975</th>\n",
       "      <td>153184663</td>\n",
       "      <td>-76.494533</td>\n",
       "      <td>318.41329</td>\n",
       "      <td>1.360559</td>\n",
       "      <td>3.500149</td>\n",
       "      <td>NaN</td>\n",
       "    </tr>\n",
       "    <tr>\n",
       "      <th>1728976</th>\n",
       "      <td>153184663</td>\n",
       "      <td>-76.493065</td>\n",
       "      <td>318.41125</td>\n",
       "      <td>1.151211</td>\n",
       "      <td>2.961583</td>\n",
       "      <td>NaN</td>\n",
       "    </tr>\n",
       "  </tbody>\n",
       "</table>\n",
       "<p>1728977 rows × 6 columns</p>\n",
       "</div>"
      ],
      "text/plain": [
       "              Time   Latitude  Longitude  Sea Ice Freeboard  \\\n",
       "0        130352017 -74.753986  329.07295           0.306041   \n",
       "1        130352017 -74.755459  329.07135           0.438596   \n",
       "2        130352017 -74.756936  329.06974           0.238436   \n",
       "3        130352017 -74.758417  329.06813           0.369677   \n",
       "4        130352017 -74.762884  329.06329           0.218586   \n",
       "...            ...        ...        ...                ...   \n",
       "1728972  153184663 -76.503334  318.42566           0.990996   \n",
       "1728973  153184663 -76.501866  318.42358           1.276437   \n",
       "1728974  153184663 -76.500400  318.42151           1.428083   \n",
       "1728975  153184663 -76.494533  318.41329           1.360559   \n",
       "1728976  153184663 -76.493065  318.41125           1.151211   \n",
       "\n",
       "         Sea Ice Thickness  Month/Day  \n",
       "0                 0.725051        NaN  \n",
       "1                 1.039091        NaN  \n",
       "2                 0.564885        NaN  \n",
       "3                 0.875811        NaN  \n",
       "4                 0.517859        NaN  \n",
       "...                    ...        ...  \n",
       "1728972           2.549416        NaN  \n",
       "1728973           3.283738        NaN  \n",
       "1728974           3.673859        NaN  \n",
       "1728975           3.500149        NaN  \n",
       "1728976           2.961583        NaN  \n",
       "\n",
       "[1728977 rows x 6 columns]"
      ]
     },
     "execution_count": 11,
     "metadata": {},
     "output_type": "execute_result"
    }
   ],
   "source": [
    "Group"
   ]
  },
  {
   "cell_type": "code",
   "execution_count": 12,
   "id": "24bfe5ce",
   "metadata": {},
   "outputs": [],
   "source": [
    "GroupA = pd.read_csv('/Users/kendrarhoades/Desktop/Data Science/DSO110 Final Project/Data/GroupA.csv')"
   ]
  },
  {
   "cell_type": "code",
   "execution_count": 13,
   "id": "503d238d",
   "metadata": {},
   "outputs": [
    {
     "data": {
      "text/html": [
       "<div>\n",
       "<style scoped>\n",
       "    .dataframe tbody tr th:only-of-type {\n",
       "        vertical-align: middle;\n",
       "    }\n",
       "\n",
       "    .dataframe tbody tr th {\n",
       "        vertical-align: top;\n",
       "    }\n",
       "\n",
       "    .dataframe thead th {\n",
       "        text-align: right;\n",
       "    }\n",
       "</style>\n",
       "<table border=\"1\" class=\"dataframe\">\n",
       "  <thead>\n",
       "    <tr style=\"text-align: right;\">\n",
       "      <th></th>\n",
       "      <th>Time</th>\n",
       "      <th>Latitude</th>\n",
       "      <th>Longitude</th>\n",
       "      <th>Sea Ice Freeboard</th>\n",
       "      <th>Sea Ice Thickness</th>\n",
       "      <th>Month/Day</th>\n",
       "    </tr>\n",
       "  </thead>\n",
       "  <tbody>\n",
       "    <tr>\n",
       "      <th>0</th>\n",
       "      <td>226939521</td>\n",
       "      <td>-75.892572</td>\n",
       "      <td>185.46385</td>\n",
       "      <td>0.058175</td>\n",
       "      <td>0.137825</td>\n",
       "      <td>NaN</td>\n",
       "    </tr>\n",
       "    <tr>\n",
       "      <th>1</th>\n",
       "      <td>226939521</td>\n",
       "      <td>-75.895496</td>\n",
       "      <td>185.45998</td>\n",
       "      <td>0.073006</td>\n",
       "      <td>0.172960</td>\n",
       "      <td>NaN</td>\n",
       "    </tr>\n",
       "    <tr>\n",
       "      <th>2</th>\n",
       "      <td>226939521</td>\n",
       "      <td>-75.896958</td>\n",
       "      <td>185.45806</td>\n",
       "      <td>0.003298</td>\n",
       "      <td>0.007813</td>\n",
       "      <td>NaN</td>\n",
       "    </tr>\n",
       "    <tr>\n",
       "      <th>3</th>\n",
       "      <td>226939521</td>\n",
       "      <td>-75.901341</td>\n",
       "      <td>185.45238</td>\n",
       "      <td>0.037130</td>\n",
       "      <td>0.087966</td>\n",
       "      <td>NaN</td>\n",
       "    </tr>\n",
       "    <tr>\n",
       "      <th>4</th>\n",
       "      <td>226939521</td>\n",
       "      <td>-75.904272</td>\n",
       "      <td>185.44865</td>\n",
       "      <td>0.110433</td>\n",
       "      <td>0.261630</td>\n",
       "      <td>NaN</td>\n",
       "    </tr>\n",
       "    <tr>\n",
       "      <th>...</th>\n",
       "      <td>...</td>\n",
       "      <td>...</td>\n",
       "      <td>...</td>\n",
       "      <td>...</td>\n",
       "      <td>...</td>\n",
       "      <td>...</td>\n",
       "    </tr>\n",
       "    <tr>\n",
       "      <th>997686</th>\n",
       "      <td>259400745</td>\n",
       "      <td>-68.204985</td>\n",
       "      <td>316.86492</td>\n",
       "      <td>0.504868</td>\n",
       "      <td>1.196096</td>\n",
       "      <td>NaN</td>\n",
       "    </tr>\n",
       "    <tr>\n",
       "      <th>997687</th>\n",
       "      <td>259400745</td>\n",
       "      <td>-68.203472</td>\n",
       "      <td>316.86404</td>\n",
       "      <td>0.278338</td>\n",
       "      <td>0.659418</td>\n",
       "      <td>NaN</td>\n",
       "    </tr>\n",
       "    <tr>\n",
       "      <th>997688</th>\n",
       "      <td>259400745</td>\n",
       "      <td>-68.201960</td>\n",
       "      <td>316.86316</td>\n",
       "      <td>0.436133</td>\n",
       "      <td>1.033254</td>\n",
       "      <td>NaN</td>\n",
       "    </tr>\n",
       "    <tr>\n",
       "      <th>997689</th>\n",
       "      <td>259400745</td>\n",
       "      <td>-68.200447</td>\n",
       "      <td>316.86229</td>\n",
       "      <td>0.207124</td>\n",
       "      <td>0.490704</td>\n",
       "      <td>NaN</td>\n",
       "    </tr>\n",
       "    <tr>\n",
       "      <th>997690</th>\n",
       "      <td>259400745</td>\n",
       "      <td>-68.198933</td>\n",
       "      <td>316.86142</td>\n",
       "      <td>0.377777</td>\n",
       "      <td>0.895002</td>\n",
       "      <td>NaN</td>\n",
       "    </tr>\n",
       "  </tbody>\n",
       "</table>\n",
       "<p>997691 rows × 6 columns</p>\n",
       "</div>"
      ],
      "text/plain": [
       "             Time   Latitude  Longitude  Sea Ice Freeboard  Sea Ice Thickness  \\\n",
       "0       226939521 -75.892572  185.46385           0.058175           0.137825   \n",
       "1       226939521 -75.895496  185.45998           0.073006           0.172960   \n",
       "2       226939521 -75.896958  185.45806           0.003298           0.007813   \n",
       "3       226939521 -75.901341  185.45238           0.037130           0.087966   \n",
       "4       226939521 -75.904272  185.44865           0.110433           0.261630   \n",
       "...           ...        ...        ...                ...                ...   \n",
       "997686  259400745 -68.204985  316.86492           0.504868           1.196096   \n",
       "997687  259400745 -68.203472  316.86404           0.278338           0.659418   \n",
       "997688  259400745 -68.201960  316.86316           0.436133           1.033254   \n",
       "997689  259400745 -68.200447  316.86229           0.207124           0.490704   \n",
       "997690  259400745 -68.198933  316.86142           0.377777           0.895002   \n",
       "\n",
       "        Month/Day  \n",
       "0             NaN  \n",
       "1             NaN  \n",
       "2             NaN  \n",
       "3             NaN  \n",
       "4             NaN  \n",
       "...           ...  \n",
       "997686        NaN  \n",
       "997687        NaN  \n",
       "997688        NaN  \n",
       "997689        NaN  \n",
       "997690        NaN  \n",
       "\n",
       "[997691 rows x 6 columns]"
      ]
     },
     "execution_count": 13,
     "metadata": {},
     "output_type": "execute_result"
    }
   ],
   "source": [
    "GroupA"
   ]
  },
  {
   "cell_type": "markdown",
   "id": "d0608951",
   "metadata": {},
   "source": [
    "### Working on changing the UTC time to Year/Month/Day HH:MM:SS "
   ]
  },
  {
   "cell_type": "code",
   "execution_count": 14,
   "id": "11c50642",
   "metadata": {},
   "outputs": [],
   "source": [
    "import datetime \n",
    "from datetime import datetime\n",
    "from datetime import date, time"
   ]
  },
  {
   "cell_type": "code",
   "execution_count": 15,
   "id": "0aa7e5a5",
   "metadata": {},
   "outputs": [],
   "source": [
    "Group['Month/Day'] = pd.to_datetime(Group['Time'],  unit='s', origin='2000-01-01')"
   ]
  },
  {
   "cell_type": "markdown",
   "id": "3a0a99de",
   "metadata": {},
   "source": [
    "#### unit = seconds (D,s,ms,us,ns) origin(when UTC is 0) = unix(1970-01-01), julian (unit must be D) starts noon 01-01-4713 "
   ]
  },
  {
   "cell_type": "code",
   "execution_count": 16,
   "id": "5b6bc1cc",
   "metadata": {},
   "outputs": [
    {
     "data": {
      "text/html": [
       "<div>\n",
       "<style scoped>\n",
       "    .dataframe tbody tr th:only-of-type {\n",
       "        vertical-align: middle;\n",
       "    }\n",
       "\n",
       "    .dataframe tbody tr th {\n",
       "        vertical-align: top;\n",
       "    }\n",
       "\n",
       "    .dataframe thead th {\n",
       "        text-align: right;\n",
       "    }\n",
       "</style>\n",
       "<table border=\"1\" class=\"dataframe\">\n",
       "  <thead>\n",
       "    <tr style=\"text-align: right;\">\n",
       "      <th></th>\n",
       "      <th>Time</th>\n",
       "      <th>Latitude</th>\n",
       "      <th>Longitude</th>\n",
       "      <th>Sea Ice Freeboard</th>\n",
       "      <th>Sea Ice Thickness</th>\n",
       "      <th>Month/Day</th>\n",
       "    </tr>\n",
       "  </thead>\n",
       "  <tbody>\n",
       "    <tr>\n",
       "      <th>0</th>\n",
       "      <td>130352017</td>\n",
       "      <td>-74.753986</td>\n",
       "      <td>329.07295</td>\n",
       "      <td>0.306041</td>\n",
       "      <td>0.725051</td>\n",
       "      <td>2004-02-17 16:53:37</td>\n",
       "    </tr>\n",
       "    <tr>\n",
       "      <th>1</th>\n",
       "      <td>130352017</td>\n",
       "      <td>-74.755459</td>\n",
       "      <td>329.07135</td>\n",
       "      <td>0.438596</td>\n",
       "      <td>1.039091</td>\n",
       "      <td>2004-02-17 16:53:37</td>\n",
       "    </tr>\n",
       "    <tr>\n",
       "      <th>2</th>\n",
       "      <td>130352017</td>\n",
       "      <td>-74.756936</td>\n",
       "      <td>329.06974</td>\n",
       "      <td>0.238436</td>\n",
       "      <td>0.564885</td>\n",
       "      <td>2004-02-17 16:53:37</td>\n",
       "    </tr>\n",
       "    <tr>\n",
       "      <th>3</th>\n",
       "      <td>130352017</td>\n",
       "      <td>-74.758417</td>\n",
       "      <td>329.06813</td>\n",
       "      <td>0.369677</td>\n",
       "      <td>0.875811</td>\n",
       "      <td>2004-02-17 16:53:37</td>\n",
       "    </tr>\n",
       "    <tr>\n",
       "      <th>4</th>\n",
       "      <td>130352017</td>\n",
       "      <td>-74.762884</td>\n",
       "      <td>329.06329</td>\n",
       "      <td>0.218586</td>\n",
       "      <td>0.517859</td>\n",
       "      <td>2004-02-17 16:53:37</td>\n",
       "    </tr>\n",
       "    <tr>\n",
       "      <th>...</th>\n",
       "      <td>...</td>\n",
       "      <td>...</td>\n",
       "      <td>...</td>\n",
       "      <td>...</td>\n",
       "      <td>...</td>\n",
       "      <td>...</td>\n",
       "    </tr>\n",
       "    <tr>\n",
       "      <th>1728972</th>\n",
       "      <td>153184663</td>\n",
       "      <td>-76.503334</td>\n",
       "      <td>318.42566</td>\n",
       "      <td>0.990996</td>\n",
       "      <td>2.549416</td>\n",
       "      <td>2004-11-07 23:17:43</td>\n",
       "    </tr>\n",
       "    <tr>\n",
       "      <th>1728973</th>\n",
       "      <td>153184663</td>\n",
       "      <td>-76.501866</td>\n",
       "      <td>318.42358</td>\n",
       "      <td>1.276437</td>\n",
       "      <td>3.283738</td>\n",
       "      <td>2004-11-07 23:17:43</td>\n",
       "    </tr>\n",
       "    <tr>\n",
       "      <th>1728974</th>\n",
       "      <td>153184663</td>\n",
       "      <td>-76.500400</td>\n",
       "      <td>318.42151</td>\n",
       "      <td>1.428083</td>\n",
       "      <td>3.673859</td>\n",
       "      <td>2004-11-07 23:17:43</td>\n",
       "    </tr>\n",
       "    <tr>\n",
       "      <th>1728975</th>\n",
       "      <td>153184663</td>\n",
       "      <td>-76.494533</td>\n",
       "      <td>318.41329</td>\n",
       "      <td>1.360559</td>\n",
       "      <td>3.500149</td>\n",
       "      <td>2004-11-07 23:17:43</td>\n",
       "    </tr>\n",
       "    <tr>\n",
       "      <th>1728976</th>\n",
       "      <td>153184663</td>\n",
       "      <td>-76.493065</td>\n",
       "      <td>318.41125</td>\n",
       "      <td>1.151211</td>\n",
       "      <td>2.961583</td>\n",
       "      <td>2004-11-07 23:17:43</td>\n",
       "    </tr>\n",
       "  </tbody>\n",
       "</table>\n",
       "<p>1728977 rows × 6 columns</p>\n",
       "</div>"
      ],
      "text/plain": [
       "              Time   Latitude  Longitude  Sea Ice Freeboard  \\\n",
       "0        130352017 -74.753986  329.07295           0.306041   \n",
       "1        130352017 -74.755459  329.07135           0.438596   \n",
       "2        130352017 -74.756936  329.06974           0.238436   \n",
       "3        130352017 -74.758417  329.06813           0.369677   \n",
       "4        130352017 -74.762884  329.06329           0.218586   \n",
       "...            ...        ...        ...                ...   \n",
       "1728972  153184663 -76.503334  318.42566           0.990996   \n",
       "1728973  153184663 -76.501866  318.42358           1.276437   \n",
       "1728974  153184663 -76.500400  318.42151           1.428083   \n",
       "1728975  153184663 -76.494533  318.41329           1.360559   \n",
       "1728976  153184663 -76.493065  318.41125           1.151211   \n",
       "\n",
       "         Sea Ice Thickness           Month/Day  \n",
       "0                 0.725051 2004-02-17 16:53:37  \n",
       "1                 1.039091 2004-02-17 16:53:37  \n",
       "2                 0.564885 2004-02-17 16:53:37  \n",
       "3                 0.875811 2004-02-17 16:53:37  \n",
       "4                 0.517859 2004-02-17 16:53:37  \n",
       "...                    ...                 ...  \n",
       "1728972           2.549416 2004-11-07 23:17:43  \n",
       "1728973           3.283738 2004-11-07 23:17:43  \n",
       "1728974           3.673859 2004-11-07 23:17:43  \n",
       "1728975           3.500149 2004-11-07 23:17:43  \n",
       "1728976           2.961583 2004-11-07 23:17:43  \n",
       "\n",
       "[1728977 rows x 6 columns]"
      ]
     },
     "execution_count": 16,
     "metadata": {},
     "output_type": "execute_result"
    }
   ],
   "source": [
    "Group"
   ]
  },
  {
   "cell_type": "code",
   "execution_count": 17,
   "id": "00b11398",
   "metadata": {},
   "outputs": [],
   "source": [
    "GroupA['Month/Day'] = pd.to_datetime(GroupA['Time'], unit='s', origin='2001-01-01')"
   ]
  },
  {
   "cell_type": "code",
   "execution_count": 18,
   "id": "8169373a",
   "metadata": {},
   "outputs": [
    {
     "data": {
      "text/html": [
       "<div>\n",
       "<style scoped>\n",
       "    .dataframe tbody tr th:only-of-type {\n",
       "        vertical-align: middle;\n",
       "    }\n",
       "\n",
       "    .dataframe tbody tr th {\n",
       "        vertical-align: top;\n",
       "    }\n",
       "\n",
       "    .dataframe thead th {\n",
       "        text-align: right;\n",
       "    }\n",
       "</style>\n",
       "<table border=\"1\" class=\"dataframe\">\n",
       "  <thead>\n",
       "    <tr style=\"text-align: right;\">\n",
       "      <th></th>\n",
       "      <th>Time</th>\n",
       "      <th>Latitude</th>\n",
       "      <th>Longitude</th>\n",
       "      <th>Sea Ice Freeboard</th>\n",
       "      <th>Sea Ice Thickness</th>\n",
       "      <th>Month/Day</th>\n",
       "    </tr>\n",
       "  </thead>\n",
       "  <tbody>\n",
       "    <tr>\n",
       "      <th>0</th>\n",
       "      <td>226939521</td>\n",
       "      <td>-75.892572</td>\n",
       "      <td>185.46385</td>\n",
       "      <td>0.058175</td>\n",
       "      <td>0.137825</td>\n",
       "      <td>2008-03-11 14:45:21</td>\n",
       "    </tr>\n",
       "    <tr>\n",
       "      <th>1</th>\n",
       "      <td>226939521</td>\n",
       "      <td>-75.895496</td>\n",
       "      <td>185.45998</td>\n",
       "      <td>0.073006</td>\n",
       "      <td>0.172960</td>\n",
       "      <td>2008-03-11 14:45:21</td>\n",
       "    </tr>\n",
       "    <tr>\n",
       "      <th>2</th>\n",
       "      <td>226939521</td>\n",
       "      <td>-75.896958</td>\n",
       "      <td>185.45806</td>\n",
       "      <td>0.003298</td>\n",
       "      <td>0.007813</td>\n",
       "      <td>2008-03-11 14:45:21</td>\n",
       "    </tr>\n",
       "    <tr>\n",
       "      <th>3</th>\n",
       "      <td>226939521</td>\n",
       "      <td>-75.901341</td>\n",
       "      <td>185.45238</td>\n",
       "      <td>0.037130</td>\n",
       "      <td>0.087966</td>\n",
       "      <td>2008-03-11 14:45:21</td>\n",
       "    </tr>\n",
       "    <tr>\n",
       "      <th>4</th>\n",
       "      <td>226939521</td>\n",
       "      <td>-75.904272</td>\n",
       "      <td>185.44865</td>\n",
       "      <td>0.110433</td>\n",
       "      <td>0.261630</td>\n",
       "      <td>2008-03-11 14:45:21</td>\n",
       "    </tr>\n",
       "    <tr>\n",
       "      <th>...</th>\n",
       "      <td>...</td>\n",
       "      <td>...</td>\n",
       "      <td>...</td>\n",
       "      <td>...</td>\n",
       "      <td>...</td>\n",
       "      <td>...</td>\n",
       "    </tr>\n",
       "    <tr>\n",
       "      <th>997686</th>\n",
       "      <td>259400745</td>\n",
       "      <td>-68.204985</td>\n",
       "      <td>316.86492</td>\n",
       "      <td>0.504868</td>\n",
       "      <td>1.196096</td>\n",
       "      <td>2009-03-22 07:45:45</td>\n",
       "    </tr>\n",
       "    <tr>\n",
       "      <th>997687</th>\n",
       "      <td>259400745</td>\n",
       "      <td>-68.203472</td>\n",
       "      <td>316.86404</td>\n",
       "      <td>0.278338</td>\n",
       "      <td>0.659418</td>\n",
       "      <td>2009-03-22 07:45:45</td>\n",
       "    </tr>\n",
       "    <tr>\n",
       "      <th>997688</th>\n",
       "      <td>259400745</td>\n",
       "      <td>-68.201960</td>\n",
       "      <td>316.86316</td>\n",
       "      <td>0.436133</td>\n",
       "      <td>1.033254</td>\n",
       "      <td>2009-03-22 07:45:45</td>\n",
       "    </tr>\n",
       "    <tr>\n",
       "      <th>997689</th>\n",
       "      <td>259400745</td>\n",
       "      <td>-68.200447</td>\n",
       "      <td>316.86229</td>\n",
       "      <td>0.207124</td>\n",
       "      <td>0.490704</td>\n",
       "      <td>2009-03-22 07:45:45</td>\n",
       "    </tr>\n",
       "    <tr>\n",
       "      <th>997690</th>\n",
       "      <td>259400745</td>\n",
       "      <td>-68.198933</td>\n",
       "      <td>316.86142</td>\n",
       "      <td>0.377777</td>\n",
       "      <td>0.895002</td>\n",
       "      <td>2009-03-22 07:45:45</td>\n",
       "    </tr>\n",
       "  </tbody>\n",
       "</table>\n",
       "<p>997691 rows × 6 columns</p>\n",
       "</div>"
      ],
      "text/plain": [
       "             Time   Latitude  Longitude  Sea Ice Freeboard  Sea Ice Thickness  \\\n",
       "0       226939521 -75.892572  185.46385           0.058175           0.137825   \n",
       "1       226939521 -75.895496  185.45998           0.073006           0.172960   \n",
       "2       226939521 -75.896958  185.45806           0.003298           0.007813   \n",
       "3       226939521 -75.901341  185.45238           0.037130           0.087966   \n",
       "4       226939521 -75.904272  185.44865           0.110433           0.261630   \n",
       "...           ...        ...        ...                ...                ...   \n",
       "997686  259400745 -68.204985  316.86492           0.504868           1.196096   \n",
       "997687  259400745 -68.203472  316.86404           0.278338           0.659418   \n",
       "997688  259400745 -68.201960  316.86316           0.436133           1.033254   \n",
       "997689  259400745 -68.200447  316.86229           0.207124           0.490704   \n",
       "997690  259400745 -68.198933  316.86142           0.377777           0.895002   \n",
       "\n",
       "                 Month/Day  \n",
       "0      2008-03-11 14:45:21  \n",
       "1      2008-03-11 14:45:21  \n",
       "2      2008-03-11 14:45:21  \n",
       "3      2008-03-11 14:45:21  \n",
       "4      2008-03-11 14:45:21  \n",
       "...                    ...  \n",
       "997686 2009-03-22 07:45:45  \n",
       "997687 2009-03-22 07:45:45  \n",
       "997688 2009-03-22 07:45:45  \n",
       "997689 2009-03-22 07:45:45  \n",
       "997690 2009-03-22 07:45:45  \n",
       "\n",
       "[997691 rows x 6 columns]"
      ]
     },
     "execution_count": 18,
     "metadata": {},
     "output_type": "execute_result"
    }
   ],
   "source": [
    "GroupA"
   ]
  },
  {
   "cell_type": "markdown",
   "id": "c73f7073",
   "metadata": {},
   "source": [
    "### Changing column name "
   ]
  },
  {
   "cell_type": "code",
   "execution_count": 19,
   "id": "4a4cfa25",
   "metadata": {},
   "outputs": [],
   "source": [
    "Group = Group.rename(columns={'Month/Day': 'Year/Month/Day HH:MM:SS'})"
   ]
  },
  {
   "cell_type": "code",
   "execution_count": 20,
   "id": "c70ab18c",
   "metadata": {},
   "outputs": [
    {
     "data": {
      "text/html": [
       "<div>\n",
       "<style scoped>\n",
       "    .dataframe tbody tr th:only-of-type {\n",
       "        vertical-align: middle;\n",
       "    }\n",
       "\n",
       "    .dataframe tbody tr th {\n",
       "        vertical-align: top;\n",
       "    }\n",
       "\n",
       "    .dataframe thead th {\n",
       "        text-align: right;\n",
       "    }\n",
       "</style>\n",
       "<table border=\"1\" class=\"dataframe\">\n",
       "  <thead>\n",
       "    <tr style=\"text-align: right;\">\n",
       "      <th></th>\n",
       "      <th>Time</th>\n",
       "      <th>Latitude</th>\n",
       "      <th>Longitude</th>\n",
       "      <th>Sea Ice Freeboard</th>\n",
       "      <th>Sea Ice Thickness</th>\n",
       "      <th>Year/Month/Day HH:MM:SS</th>\n",
       "    </tr>\n",
       "  </thead>\n",
       "  <tbody>\n",
       "    <tr>\n",
       "      <th>0</th>\n",
       "      <td>130352017</td>\n",
       "      <td>-74.753986</td>\n",
       "      <td>329.07295</td>\n",
       "      <td>0.306041</td>\n",
       "      <td>0.725051</td>\n",
       "      <td>2004-02-17 16:53:37</td>\n",
       "    </tr>\n",
       "    <tr>\n",
       "      <th>1</th>\n",
       "      <td>130352017</td>\n",
       "      <td>-74.755459</td>\n",
       "      <td>329.07135</td>\n",
       "      <td>0.438596</td>\n",
       "      <td>1.039091</td>\n",
       "      <td>2004-02-17 16:53:37</td>\n",
       "    </tr>\n",
       "    <tr>\n",
       "      <th>2</th>\n",
       "      <td>130352017</td>\n",
       "      <td>-74.756936</td>\n",
       "      <td>329.06974</td>\n",
       "      <td>0.238436</td>\n",
       "      <td>0.564885</td>\n",
       "      <td>2004-02-17 16:53:37</td>\n",
       "    </tr>\n",
       "    <tr>\n",
       "      <th>3</th>\n",
       "      <td>130352017</td>\n",
       "      <td>-74.758417</td>\n",
       "      <td>329.06813</td>\n",
       "      <td>0.369677</td>\n",
       "      <td>0.875811</td>\n",
       "      <td>2004-02-17 16:53:37</td>\n",
       "    </tr>\n",
       "    <tr>\n",
       "      <th>4</th>\n",
       "      <td>130352017</td>\n",
       "      <td>-74.762884</td>\n",
       "      <td>329.06329</td>\n",
       "      <td>0.218586</td>\n",
       "      <td>0.517859</td>\n",
       "      <td>2004-02-17 16:53:37</td>\n",
       "    </tr>\n",
       "    <tr>\n",
       "      <th>...</th>\n",
       "      <td>...</td>\n",
       "      <td>...</td>\n",
       "      <td>...</td>\n",
       "      <td>...</td>\n",
       "      <td>...</td>\n",
       "      <td>...</td>\n",
       "    </tr>\n",
       "    <tr>\n",
       "      <th>1728972</th>\n",
       "      <td>153184663</td>\n",
       "      <td>-76.503334</td>\n",
       "      <td>318.42566</td>\n",
       "      <td>0.990996</td>\n",
       "      <td>2.549416</td>\n",
       "      <td>2004-11-07 23:17:43</td>\n",
       "    </tr>\n",
       "    <tr>\n",
       "      <th>1728973</th>\n",
       "      <td>153184663</td>\n",
       "      <td>-76.501866</td>\n",
       "      <td>318.42358</td>\n",
       "      <td>1.276437</td>\n",
       "      <td>3.283738</td>\n",
       "      <td>2004-11-07 23:17:43</td>\n",
       "    </tr>\n",
       "    <tr>\n",
       "      <th>1728974</th>\n",
       "      <td>153184663</td>\n",
       "      <td>-76.500400</td>\n",
       "      <td>318.42151</td>\n",
       "      <td>1.428083</td>\n",
       "      <td>3.673859</td>\n",
       "      <td>2004-11-07 23:17:43</td>\n",
       "    </tr>\n",
       "    <tr>\n",
       "      <th>1728975</th>\n",
       "      <td>153184663</td>\n",
       "      <td>-76.494533</td>\n",
       "      <td>318.41329</td>\n",
       "      <td>1.360559</td>\n",
       "      <td>3.500149</td>\n",
       "      <td>2004-11-07 23:17:43</td>\n",
       "    </tr>\n",
       "    <tr>\n",
       "      <th>1728976</th>\n",
       "      <td>153184663</td>\n",
       "      <td>-76.493065</td>\n",
       "      <td>318.41125</td>\n",
       "      <td>1.151211</td>\n",
       "      <td>2.961583</td>\n",
       "      <td>2004-11-07 23:17:43</td>\n",
       "    </tr>\n",
       "  </tbody>\n",
       "</table>\n",
       "<p>1728977 rows × 6 columns</p>\n",
       "</div>"
      ],
      "text/plain": [
       "              Time   Latitude  Longitude  Sea Ice Freeboard  \\\n",
       "0        130352017 -74.753986  329.07295           0.306041   \n",
       "1        130352017 -74.755459  329.07135           0.438596   \n",
       "2        130352017 -74.756936  329.06974           0.238436   \n",
       "3        130352017 -74.758417  329.06813           0.369677   \n",
       "4        130352017 -74.762884  329.06329           0.218586   \n",
       "...            ...        ...        ...                ...   \n",
       "1728972  153184663 -76.503334  318.42566           0.990996   \n",
       "1728973  153184663 -76.501866  318.42358           1.276437   \n",
       "1728974  153184663 -76.500400  318.42151           1.428083   \n",
       "1728975  153184663 -76.494533  318.41329           1.360559   \n",
       "1728976  153184663 -76.493065  318.41125           1.151211   \n",
       "\n",
       "         Sea Ice Thickness Year/Month/Day HH:MM:SS  \n",
       "0                 0.725051     2004-02-17 16:53:37  \n",
       "1                 1.039091     2004-02-17 16:53:37  \n",
       "2                 0.564885     2004-02-17 16:53:37  \n",
       "3                 0.875811     2004-02-17 16:53:37  \n",
       "4                 0.517859     2004-02-17 16:53:37  \n",
       "...                    ...                     ...  \n",
       "1728972           2.549416     2004-11-07 23:17:43  \n",
       "1728973           3.283738     2004-11-07 23:17:43  \n",
       "1728974           3.673859     2004-11-07 23:17:43  \n",
       "1728975           3.500149     2004-11-07 23:17:43  \n",
       "1728976           2.961583     2004-11-07 23:17:43  \n",
       "\n",
       "[1728977 rows x 6 columns]"
      ]
     },
     "execution_count": 20,
     "metadata": {},
     "output_type": "execute_result"
    }
   ],
   "source": [
    "Group"
   ]
  },
  {
   "cell_type": "code",
   "execution_count": 21,
   "id": "835e23f7",
   "metadata": {},
   "outputs": [
    {
     "data": {
      "text/html": [
       "<div>\n",
       "<style scoped>\n",
       "    .dataframe tbody tr th:only-of-type {\n",
       "        vertical-align: middle;\n",
       "    }\n",
       "\n",
       "    .dataframe tbody tr th {\n",
       "        vertical-align: top;\n",
       "    }\n",
       "\n",
       "    .dataframe thead th {\n",
       "        text-align: right;\n",
       "    }\n",
       "</style>\n",
       "<table border=\"1\" class=\"dataframe\">\n",
       "  <thead>\n",
       "    <tr style=\"text-align: right;\">\n",
       "      <th></th>\n",
       "      <th>Time</th>\n",
       "      <th>Latitude</th>\n",
       "      <th>Longitude</th>\n",
       "      <th>Sea Ice Freeboard</th>\n",
       "      <th>Sea Ice Thickness</th>\n",
       "      <th>Year/Month/Day HH:MM:SS</th>\n",
       "    </tr>\n",
       "  </thead>\n",
       "  <tbody>\n",
       "    <tr>\n",
       "      <th>0</th>\n",
       "      <td>226939521</td>\n",
       "      <td>-75.892572</td>\n",
       "      <td>185.46385</td>\n",
       "      <td>0.058175</td>\n",
       "      <td>0.137825</td>\n",
       "      <td>2008-03-11 14:45:21</td>\n",
       "    </tr>\n",
       "    <tr>\n",
       "      <th>1</th>\n",
       "      <td>226939521</td>\n",
       "      <td>-75.895496</td>\n",
       "      <td>185.45998</td>\n",
       "      <td>0.073006</td>\n",
       "      <td>0.172960</td>\n",
       "      <td>2008-03-11 14:45:21</td>\n",
       "    </tr>\n",
       "    <tr>\n",
       "      <th>2</th>\n",
       "      <td>226939521</td>\n",
       "      <td>-75.896958</td>\n",
       "      <td>185.45806</td>\n",
       "      <td>0.003298</td>\n",
       "      <td>0.007813</td>\n",
       "      <td>2008-03-11 14:45:21</td>\n",
       "    </tr>\n",
       "    <tr>\n",
       "      <th>3</th>\n",
       "      <td>226939521</td>\n",
       "      <td>-75.901341</td>\n",
       "      <td>185.45238</td>\n",
       "      <td>0.037130</td>\n",
       "      <td>0.087966</td>\n",
       "      <td>2008-03-11 14:45:21</td>\n",
       "    </tr>\n",
       "    <tr>\n",
       "      <th>4</th>\n",
       "      <td>226939521</td>\n",
       "      <td>-75.904272</td>\n",
       "      <td>185.44865</td>\n",
       "      <td>0.110433</td>\n",
       "      <td>0.261630</td>\n",
       "      <td>2008-03-11 14:45:21</td>\n",
       "    </tr>\n",
       "    <tr>\n",
       "      <th>...</th>\n",
       "      <td>...</td>\n",
       "      <td>...</td>\n",
       "      <td>...</td>\n",
       "      <td>...</td>\n",
       "      <td>...</td>\n",
       "      <td>...</td>\n",
       "    </tr>\n",
       "    <tr>\n",
       "      <th>997686</th>\n",
       "      <td>259400745</td>\n",
       "      <td>-68.204985</td>\n",
       "      <td>316.86492</td>\n",
       "      <td>0.504868</td>\n",
       "      <td>1.196096</td>\n",
       "      <td>2009-03-22 07:45:45</td>\n",
       "    </tr>\n",
       "    <tr>\n",
       "      <th>997687</th>\n",
       "      <td>259400745</td>\n",
       "      <td>-68.203472</td>\n",
       "      <td>316.86404</td>\n",
       "      <td>0.278338</td>\n",
       "      <td>0.659418</td>\n",
       "      <td>2009-03-22 07:45:45</td>\n",
       "    </tr>\n",
       "    <tr>\n",
       "      <th>997688</th>\n",
       "      <td>259400745</td>\n",
       "      <td>-68.201960</td>\n",
       "      <td>316.86316</td>\n",
       "      <td>0.436133</td>\n",
       "      <td>1.033254</td>\n",
       "      <td>2009-03-22 07:45:45</td>\n",
       "    </tr>\n",
       "    <tr>\n",
       "      <th>997689</th>\n",
       "      <td>259400745</td>\n",
       "      <td>-68.200447</td>\n",
       "      <td>316.86229</td>\n",
       "      <td>0.207124</td>\n",
       "      <td>0.490704</td>\n",
       "      <td>2009-03-22 07:45:45</td>\n",
       "    </tr>\n",
       "    <tr>\n",
       "      <th>997690</th>\n",
       "      <td>259400745</td>\n",
       "      <td>-68.198933</td>\n",
       "      <td>316.86142</td>\n",
       "      <td>0.377777</td>\n",
       "      <td>0.895002</td>\n",
       "      <td>2009-03-22 07:45:45</td>\n",
       "    </tr>\n",
       "  </tbody>\n",
       "</table>\n",
       "<p>997691 rows × 6 columns</p>\n",
       "</div>"
      ],
      "text/plain": [
       "             Time   Latitude  Longitude  Sea Ice Freeboard  Sea Ice Thickness  \\\n",
       "0       226939521 -75.892572  185.46385           0.058175           0.137825   \n",
       "1       226939521 -75.895496  185.45998           0.073006           0.172960   \n",
       "2       226939521 -75.896958  185.45806           0.003298           0.007813   \n",
       "3       226939521 -75.901341  185.45238           0.037130           0.087966   \n",
       "4       226939521 -75.904272  185.44865           0.110433           0.261630   \n",
       "...           ...        ...        ...                ...                ...   \n",
       "997686  259400745 -68.204985  316.86492           0.504868           1.196096   \n",
       "997687  259400745 -68.203472  316.86404           0.278338           0.659418   \n",
       "997688  259400745 -68.201960  316.86316           0.436133           1.033254   \n",
       "997689  259400745 -68.200447  316.86229           0.207124           0.490704   \n",
       "997690  259400745 -68.198933  316.86142           0.377777           0.895002   \n",
       "\n",
       "       Year/Month/Day HH:MM:SS  \n",
       "0          2008-03-11 14:45:21  \n",
       "1          2008-03-11 14:45:21  \n",
       "2          2008-03-11 14:45:21  \n",
       "3          2008-03-11 14:45:21  \n",
       "4          2008-03-11 14:45:21  \n",
       "...                        ...  \n",
       "997686     2009-03-22 07:45:45  \n",
       "997687     2009-03-22 07:45:45  \n",
       "997688     2009-03-22 07:45:45  \n",
       "997689     2009-03-22 07:45:45  \n",
       "997690     2009-03-22 07:45:45  \n",
       "\n",
       "[997691 rows x 6 columns]"
      ]
     },
     "execution_count": 21,
     "metadata": {},
     "output_type": "execute_result"
    }
   ],
   "source": [
    "GroupA = GroupA.rename(columns={'Month/Day': 'Year/Month/Day HH:MM:SS'})\n",
    "GroupA"
   ]
  },
  {
   "cell_type": "code",
   "execution_count": 22,
   "id": "7c4dfebf",
   "metadata": {},
   "outputs": [],
   "source": [
    "from sklearn.linear_model import LinearRegression\n",
    "from sklearn.model_selection import train_test_split\n",
    "import matplotlib.pyplot as plt\n",
    "%matplotlib inline\n",
    "from sklearn import metrics\n",
    "import statistics "
   ]
  },
  {
   "cell_type": "code",
   "execution_count": 23,
   "id": "9c941040",
   "metadata": {},
   "outputs": [],
   "source": [
    "x = statistics.mean(Group['Sea Ice Thickness'])"
   ]
  },
  {
   "cell_type": "code",
   "execution_count": 24,
   "id": "3f3904a1",
   "metadata": {},
   "outputs": [
    {
     "data": {
      "text/plain": [
       "0.8016549591431917"
      ]
     },
     "execution_count": 24,
     "metadata": {},
     "output_type": "execute_result"
    }
   ],
   "source": [
    "x"
   ]
  },
  {
   "cell_type": "code",
   "execution_count": 25,
   "id": "ece1f74a",
   "metadata": {},
   "outputs": [
    {
     "data": {
      "text/plain": [
       "0.308042922409207"
      ]
     },
     "execution_count": 25,
     "metadata": {},
     "output_type": "execute_result"
    }
   ],
   "source": [
    "xa = statistics.mean(Group['Sea Ice Freeboard'])\n",
    "xa"
   ]
  },
  {
   "cell_type": "code",
   "execution_count": 26,
   "id": "1df20153",
   "metadata": {},
   "outputs": [
    {
     "data": {
      "text/plain": [
       "0.7035260686177272"
      ]
     },
     "execution_count": 26,
     "metadata": {},
     "output_type": "execute_result"
    }
   ],
   "source": [
    "ya = statistics.mean(GroupA['Sea Ice Thickness'])\n",
    "ya"
   ]
  },
  {
   "cell_type": "code",
   "execution_count": 27,
   "id": "1802a211",
   "metadata": {},
   "outputs": [
    {
     "data": {
      "text/plain": [
       "0.28006671869939387"
      ]
     },
     "execution_count": 27,
     "metadata": {},
     "output_type": "execute_result"
    }
   ],
   "source": [
    "yb = statistics.mean(GroupA['Sea Ice Freeboard'])\n",
    "yb"
   ]
  },
  {
   "cell_type": "markdown",
   "id": "4388830c",
   "metadata": {},
   "source": [
    "#### Sea Ice Freeboard = the height of the sea ice surface relative to the adjacent ocean "
   ]
  },
  {
   "cell_type": "markdown",
   "id": "e31834ca",
   "metadata": {},
   "source": [
    " #### The Latitude and Longitude are in the Polar Stereographic form so I will work on changing it to geodetic so that I can look at where some of the points are located on the map "
   ]
  },
  {
   "cell_type": "code",
   "execution_count": 120,
   "id": "a1112156",
   "metadata": {},
   "outputs": [],
   "source": [
    "# pip install --editable /Users/kendrarhoades/polarstereo-lonlat-convert-py"
   ]
  },
  {
   "cell_type": "code",
   "execution_count": 2,
   "id": "9da39b74",
   "metadata": {},
   "outputs": [],
   "source": [
    "from polar_convert.constants import NORTH \n",
    "from polar_convert import polar_xy_to_lonlat"
   ]
  },
  {
   "cell_type": "code",
   "execution_count": null,
   "id": "497fb7fa",
   "metadata": {},
   "outputs": [],
   "source": []
  },
  {
   "cell_type": "code",
   "execution_count": 6,
   "id": "8855b243",
   "metadata": {},
   "outputs": [
    {
     "data": {
      "text/plain": [
       "[192.7984181798645, 86.87553352008455]"
      ]
     },
     "execution_count": 6,
     "metadata": {},
     "output_type": "execute_result"
    }
   ],
   "source": [
    "x = -74.753986  # x coordinate in km\n",
    "y = 329.07295 # y coordinate in km\n",
    "true_scale_lat = 70  # true-scale latitude in degrees \n",
    "re = 6378.137  # earth radius in km\n",
    "e = 0.01671 # earth eccentricity\n",
    "hemisphere = NORTH\n",
    "polar_xy_to_lonlat(x, y, true_scale_lat, re, e, hemisphere)"
   ]
  },
  {
   "cell_type": "markdown",
   "id": "a7d0c219",
   "metadata": {},
   "source": [
    "### Starting to work on the machine learning code. I will be using Group for the learning and GroupA to see how accurate it is. "
   ]
  },
  {
   "cell_type": "code",
   "execution_count": 28,
   "id": "f53e2dbb",
   "metadata": {},
   "outputs": [],
   "source": [
    "from sklearn.linear_model import LinearRegression\n",
    "from sklearn.model_selection import train_test_split\n",
    "import matplotlib.pyplot as plt\n",
    "%matplotlib inline\n",
    "from sklearn import metrics"
   ]
  },
  {
   "cell_type": "markdown",
   "id": "54269017",
   "metadata": {},
   "source": [
    "#### mlx and mly are the train group"
   ]
  },
  {
   "cell_type": "code",
   "execution_count": 29,
   "id": "3e62d93b",
   "metadata": {},
   "outputs": [],
   "source": [
    "mlx = Group[['Latitude', 'Longitude', 'Sea Ice Freeboard']]"
   ]
  },
  {
   "cell_type": "code",
   "execution_count": 30,
   "id": "85238938",
   "metadata": {},
   "outputs": [],
   "source": [
    "mly = Group[['Sea Ice Thickness']]"
   ]
  },
  {
   "cell_type": "code",
   "execution_count": 31,
   "id": "95cc6d20",
   "metadata": {},
   "outputs": [
    {
     "data": {
      "text/html": [
       "<style>#sk-container-id-1 {color: black;background-color: white;}#sk-container-id-1 pre{padding: 0;}#sk-container-id-1 div.sk-toggleable {background-color: white;}#sk-container-id-1 label.sk-toggleable__label {cursor: pointer;display: block;width: 100%;margin-bottom: 0;padding: 0.3em;box-sizing: border-box;text-align: center;}#sk-container-id-1 label.sk-toggleable__label-arrow:before {content: \"▸\";float: left;margin-right: 0.25em;color: #696969;}#sk-container-id-1 label.sk-toggleable__label-arrow:hover:before {color: black;}#sk-container-id-1 div.sk-estimator:hover label.sk-toggleable__label-arrow:before {color: black;}#sk-container-id-1 div.sk-toggleable__content {max-height: 0;max-width: 0;overflow: hidden;text-align: left;background-color: #f0f8ff;}#sk-container-id-1 div.sk-toggleable__content pre {margin: 0.2em;color: black;border-radius: 0.25em;background-color: #f0f8ff;}#sk-container-id-1 input.sk-toggleable__control:checked~div.sk-toggleable__content {max-height: 200px;max-width: 100%;overflow: auto;}#sk-container-id-1 input.sk-toggleable__control:checked~label.sk-toggleable__label-arrow:before {content: \"▾\";}#sk-container-id-1 div.sk-estimator input.sk-toggleable__control:checked~label.sk-toggleable__label {background-color: #d4ebff;}#sk-container-id-1 div.sk-label input.sk-toggleable__control:checked~label.sk-toggleable__label {background-color: #d4ebff;}#sk-container-id-1 input.sk-hidden--visually {border: 0;clip: rect(1px 1px 1px 1px);clip: rect(1px, 1px, 1px, 1px);height: 1px;margin: -1px;overflow: hidden;padding: 0;position: absolute;width: 1px;}#sk-container-id-1 div.sk-estimator {font-family: monospace;background-color: #f0f8ff;border: 1px dotted black;border-radius: 0.25em;box-sizing: border-box;margin-bottom: 0.5em;}#sk-container-id-1 div.sk-estimator:hover {background-color: #d4ebff;}#sk-container-id-1 div.sk-parallel-item::after {content: \"\";width: 100%;border-bottom: 1px solid gray;flex-grow: 1;}#sk-container-id-1 div.sk-label:hover label.sk-toggleable__label {background-color: #d4ebff;}#sk-container-id-1 div.sk-serial::before {content: \"\";position: absolute;border-left: 1px solid gray;box-sizing: border-box;top: 0;bottom: 0;left: 50%;z-index: 0;}#sk-container-id-1 div.sk-serial {display: flex;flex-direction: column;align-items: center;background-color: white;padding-right: 0.2em;padding-left: 0.2em;position: relative;}#sk-container-id-1 div.sk-item {position: relative;z-index: 1;}#sk-container-id-1 div.sk-parallel {display: flex;align-items: stretch;justify-content: center;background-color: white;position: relative;}#sk-container-id-1 div.sk-item::before, #sk-container-id-1 div.sk-parallel-item::before {content: \"\";position: absolute;border-left: 1px solid gray;box-sizing: border-box;top: 0;bottom: 0;left: 50%;z-index: -1;}#sk-container-id-1 div.sk-parallel-item {display: flex;flex-direction: column;z-index: 1;position: relative;background-color: white;}#sk-container-id-1 div.sk-parallel-item:first-child::after {align-self: flex-end;width: 50%;}#sk-container-id-1 div.sk-parallel-item:last-child::after {align-self: flex-start;width: 50%;}#sk-container-id-1 div.sk-parallel-item:only-child::after {width: 0;}#sk-container-id-1 div.sk-dashed-wrapped {border: 1px dashed gray;margin: 0 0.4em 0.5em 0.4em;box-sizing: border-box;padding-bottom: 0.4em;background-color: white;}#sk-container-id-1 div.sk-label label {font-family: monospace;font-weight: bold;display: inline-block;line-height: 1.2em;}#sk-container-id-1 div.sk-label-container {text-align: center;}#sk-container-id-1 div.sk-container {/* jupyter's `normalize.less` sets `[hidden] { display: none; }` but bootstrap.min.css set `[hidden] { display: none !important; }` so we also need the `!important` here to be able to override the default hidden behavior on the sphinx rendered scikit-learn.org. See: https://github.com/scikit-learn/scikit-learn/issues/21755 */display: inline-block !important;position: relative;}#sk-container-id-1 div.sk-text-repr-fallback {display: none;}</style><div id=\"sk-container-id-1\" class=\"sk-top-container\"><div class=\"sk-text-repr-fallback\"><pre>LinearRegression()</pre><b>In a Jupyter environment, please rerun this cell to show the HTML representation or trust the notebook. <br />On GitHub, the HTML representation is unable to render, please try loading this page with nbviewer.org.</b></div><div class=\"sk-container\" hidden><div class=\"sk-item\"><div class=\"sk-estimator sk-toggleable\"><input class=\"sk-toggleable__control sk-hidden--visually\" id=\"sk-estimator-id-1\" type=\"checkbox\" checked><label for=\"sk-estimator-id-1\" class=\"sk-toggleable__label sk-toggleable__label-arrow\">LinearRegression</label><div class=\"sk-toggleable__content\"><pre>LinearRegression()</pre></div></div></div></div></div>"
      ],
      "text/plain": [
       "LinearRegression()"
      ]
     },
     "execution_count": 31,
     "metadata": {},
     "output_type": "execute_result"
    }
   ],
   "source": [
    "lm = LinearRegression()\n",
    "lm.fit(mlx, mly)"
   ]
  },
  {
   "cell_type": "code",
   "execution_count": 32,
   "id": "47f24f18",
   "metadata": {},
   "outputs": [],
   "source": [
    "mltx = GroupA[['Latitude', 'Longitude', 'Sea Ice Freeboard']]"
   ]
  },
  {
   "cell_type": "code",
   "execution_count": 33,
   "id": "2c2b9373",
   "metadata": {},
   "outputs": [],
   "source": [
    "mlty = GroupA[['Sea Ice Thickness']]"
   ]
  },
  {
   "cell_type": "markdown",
   "id": "698e025a",
   "metadata": {},
   "source": [
    "#### mltx and mlty are the test group "
   ]
  },
  {
   "cell_type": "code",
   "execution_count": 34,
   "id": "ed2fa025",
   "metadata": {},
   "outputs": [
    {
     "data": {
      "text/plain": [
       "array([[0.15178451],\n",
       "       [0.19006415],\n",
       "       [0.01012746],\n",
       "       ...,\n",
       "       [1.13359912],\n",
       "       [0.54246994],\n",
       "       [0.9829705 ]])"
      ]
     },
     "execution_count": 34,
     "metadata": {},
     "output_type": "execute_result"
    }
   ],
   "source": [
    "predictions = lm.predict(mltx)\n",
    "predictions"
   ]
  },
  {
   "cell_type": "code",
   "execution_count": 35,
   "id": "b1bc59fd",
   "metadata": {
    "scrolled": true
   },
   "outputs": [
    {
     "data": {
      "text/plain": [
       "<matplotlib.collections.PathCollection at 0x14c4a8580>"
      ]
     },
     "execution_count": 35,
     "metadata": {},
     "output_type": "execute_result"
    },
    {
     "data": {
      "image/png": "[encoded data removed]",
      "text/plain": [
       "<Figure size 432x288 with 1 Axes>"
      ]
     },
     "metadata": {
      "needs_background": "light"
     },
     "output_type": "display_data"
    }
   ],
   "source": [
    "plt.scatter(mlty, predictions)"
   ]
  },
  {
   "cell_type": "code",
   "execution_count": 36,
   "id": "888a65d3",
   "metadata": {},
   "outputs": [
    {
     "name": "stdout",
     "output_type": "stream",
     "text": [
      "Score: 0.9943244236032368\n"
     ]
    }
   ],
   "source": [
    "print(\"Score:\", lm.score(mltx, mlty))"
   ]
  },
  {
   "cell_type": "code",
   "execution_count": 37,
   "id": "d17c48bc",
   "metadata": {},
   "outputs": [
    {
     "data": {
      "text/plain": [
       "0.02557723689699943"
      ]
     },
     "execution_count": 37,
     "metadata": {},
     "output_type": "execute_result"
    }
   ],
   "source": [
    "metrics.mean_absolute_error(mlty, predictions)"
   ]
  },
  {
   "cell_type": "markdown",
   "id": "c277f569",
   "metadata": {},
   "source": [
    "#### in the first set we used lat, lon and sea ice freeboard to determine the sea ice thickness. I wonder if we can use lat, lon, and sea ice thickness to determine sea ice freeboard "
   ]
  },
  {
   "cell_type": "code",
   "execution_count": 38,
   "id": "5324e558",
   "metadata": {},
   "outputs": [],
   "source": [
    "mlx1 = Group[['Latitude', 'Longitude', 'Sea Ice Thickness']]"
   ]
  },
  {
   "cell_type": "code",
   "execution_count": 39,
   "id": "c93a86f0",
   "metadata": {},
   "outputs": [],
   "source": [
    "mly1 = Group[['Sea Ice Freeboard']]"
   ]
  },
  {
   "cell_type": "code",
   "execution_count": 40,
   "id": "c1106966",
   "metadata": {},
   "outputs": [
    {
     "data": {
      "text/html": [
       "<style>#sk-container-id-2 {color: black;background-color: white;}#sk-container-id-2 pre{padding: 0;}#sk-container-id-2 div.sk-toggleable {background-color: white;}#sk-container-id-2 label.sk-toggleable__label {cursor: pointer;display: block;width: 100%;margin-bottom: 0;padding: 0.3em;box-sizing: border-box;text-align: center;}#sk-container-id-2 label.sk-toggleable__label-arrow:before {content: \"▸\";float: left;margin-right: 0.25em;color: #696969;}#sk-container-id-2 label.sk-toggleable__label-arrow:hover:before {color: black;}#sk-container-id-2 div.sk-estimator:hover label.sk-toggleable__label-arrow:before {color: black;}#sk-container-id-2 div.sk-toggleable__content {max-height: 0;max-width: 0;overflow: hidden;text-align: left;background-color: #f0f8ff;}#sk-container-id-2 div.sk-toggleable__content pre {margin: 0.2em;color: black;border-radius: 0.25em;background-color: #f0f8ff;}#sk-container-id-2 input.sk-toggleable__control:checked~div.sk-toggleable__content {max-height: 200px;max-width: 100%;overflow: auto;}#sk-container-id-2 input.sk-toggleable__control:checked~label.sk-toggleable__label-arrow:before {content: \"▾\";}#sk-container-id-2 div.sk-estimator input.sk-toggleable__control:checked~label.sk-toggleable__label {background-color: #d4ebff;}#sk-container-id-2 div.sk-label input.sk-toggleable__control:checked~label.sk-toggleable__label {background-color: #d4ebff;}#sk-container-id-2 input.sk-hidden--visually {border: 0;clip: rect(1px 1px 1px 1px);clip: rect(1px, 1px, 1px, 1px);height: 1px;margin: -1px;overflow: hidden;padding: 0;position: absolute;width: 1px;}#sk-container-id-2 div.sk-estimator {font-family: monospace;background-color: #f0f8ff;border: 1px dotted black;border-radius: 0.25em;box-sizing: border-box;margin-bottom: 0.5em;}#sk-container-id-2 div.sk-estimator:hover {background-color: #d4ebff;}#sk-container-id-2 div.sk-parallel-item::after {content: \"\";width: 100%;border-bottom: 1px solid gray;flex-grow: 1;}#sk-container-id-2 div.sk-label:hover label.sk-toggleable__label {background-color: #d4ebff;}#sk-container-id-2 div.sk-serial::before {content: \"\";position: absolute;border-left: 1px solid gray;box-sizing: border-box;top: 0;bottom: 0;left: 50%;z-index: 0;}#sk-container-id-2 div.sk-serial {display: flex;flex-direction: column;align-items: center;background-color: white;padding-right: 0.2em;padding-left: 0.2em;position: relative;}#sk-container-id-2 div.sk-item {position: relative;z-index: 1;}#sk-container-id-2 div.sk-parallel {display: flex;align-items: stretch;justify-content: center;background-color: white;position: relative;}#sk-container-id-2 div.sk-item::before, #sk-container-id-2 div.sk-parallel-item::before {content: \"\";position: absolute;border-left: 1px solid gray;box-sizing: border-box;top: 0;bottom: 0;left: 50%;z-index: -1;}#sk-container-id-2 div.sk-parallel-item {display: flex;flex-direction: column;z-index: 1;position: relative;background-color: white;}#sk-container-id-2 div.sk-parallel-item:first-child::after {align-self: flex-end;width: 50%;}#sk-container-id-2 div.sk-parallel-item:last-child::after {align-self: flex-start;width: 50%;}#sk-container-id-2 div.sk-parallel-item:only-child::after {width: 0;}#sk-container-id-2 div.sk-dashed-wrapped {border: 1px dashed gray;margin: 0 0.4em 0.5em 0.4em;box-sizing: border-box;padding-bottom: 0.4em;background-color: white;}#sk-container-id-2 div.sk-label label {font-family: monospace;font-weight: bold;display: inline-block;line-height: 1.2em;}#sk-container-id-2 div.sk-label-container {text-align: center;}#sk-container-id-2 div.sk-container {/* jupyter's `normalize.less` sets `[hidden] { display: none; }` but bootstrap.min.css set `[hidden] { display: none !important; }` so we also need the `!important` here to be able to override the default hidden behavior on the sphinx rendered scikit-learn.org. See: https://github.com/scikit-learn/scikit-learn/issues/21755 */display: inline-block !important;position: relative;}#sk-container-id-2 div.sk-text-repr-fallback {display: none;}</style><div id=\"sk-container-id-2\" class=\"sk-top-container\"><div class=\"sk-text-repr-fallback\"><pre>LinearRegression()</pre><b>In a Jupyter environment, please rerun this cell to show the HTML representation or trust the notebook. <br />On GitHub, the HTML representation is unable to render, please try loading this page with nbviewer.org.</b></div><div class=\"sk-container\" hidden><div class=\"sk-item\"><div class=\"sk-estimator sk-toggleable\"><input class=\"sk-toggleable__control sk-hidden--visually\" id=\"sk-estimator-id-2\" type=\"checkbox\" checked><label for=\"sk-estimator-id-2\" class=\"sk-toggleable__label sk-toggleable__label-arrow\">LinearRegression</label><div class=\"sk-toggleable__content\"><pre>LinearRegression()</pre></div></div></div></div></div>"
      ],
      "text/plain": [
       "LinearRegression()"
      ]
     },
     "execution_count": 40,
     "metadata": {},
     "output_type": "execute_result"
    }
   ],
   "source": [
    "lm1 = LinearRegression()\n",
    "lm1.fit(mlx1, mly1)"
   ]
  },
  {
   "cell_type": "code",
   "execution_count": 41,
   "id": "7d0ffdab",
   "metadata": {},
   "outputs": [],
   "source": [
    "mltx1 = GroupA[['Latitude', 'Longitude', 'Sea Ice Thickness']]"
   ]
  },
  {
   "cell_type": "code",
   "execution_count": 42,
   "id": "cee1667c",
   "metadata": {},
   "outputs": [],
   "source": [
    "mlty1 = GroupA[['Sea Ice Freeboard']]"
   ]
  },
  {
   "cell_type": "code",
   "execution_count": 43,
   "id": "a8ac9419",
   "metadata": {},
   "outputs": [
    {
     "data": {
      "text/plain": [
       "array([[0.05391643],\n",
       "       [0.06746802],\n",
       "       [0.00377686],\n",
       "       ...,\n",
       "       [0.39697793],\n",
       "       [0.18773545],\n",
       "       [0.34365818]])"
      ]
     },
     "execution_count": 43,
     "metadata": {},
     "output_type": "execute_result"
    }
   ],
   "source": [
    "predictions1 = lm1.predict(mltx1)\n",
    "predictions1"
   ]
  },
  {
   "cell_type": "code",
   "execution_count": 44,
   "id": "402930fb",
   "metadata": {},
   "outputs": [
    {
     "data": {
      "text/plain": [
       "<matplotlib.collections.PathCollection at 0x12d018f40>"
      ]
     },
     "execution_count": 44,
     "metadata": {},
     "output_type": "execute_result"
    },
    {
     "data": {
      "image/png": "[encoded data removed]",
      "text/plain": [
       "<Figure size 432x288 with 1 Axes>"
      ]
     },
     "metadata": {
      "needs_background": "light"
     },
     "output_type": "display_data"
    }
   ],
   "source": [
    "plt.scatter(mlty1, predictions1)"
   ]
  },
  {
   "cell_type": "code",
   "execution_count": 45,
   "id": "b07c5810",
   "metadata": {},
   "outputs": [
    {
     "name": "stdout",
     "output_type": "stream",
     "text": [
      "Score: 0.994461595219723\n"
     ]
    }
   ],
   "source": [
    "print(\"Score:\", lm1.score(mltx1, mlty1))"
   ]
  },
  {
   "cell_type": "code",
   "execution_count": 46,
   "id": "1be8cd2e",
   "metadata": {},
   "outputs": [
    {
     "data": {
      "text/plain": [
       "0.009777126784799974"
      ]
     },
     "execution_count": 46,
     "metadata": {},
     "output_type": "execute_result"
    }
   ],
   "source": [
    "metrics.mean_absolute_error(mlty1, predictions1)"
   ]
  },
  {
   "cell_type": "code",
   "execution_count": 47,
   "id": "e8020ef7",
   "metadata": {},
   "outputs": [],
   "source": [
    "Group.to_csv('/Users/kendrarhoades/Desktop/Data Science/DSO110 Final Project/Data/Group1')"
   ]
  },
  {
   "cell_type": "code",
   "execution_count": 48,
   "id": "a0a3871c",
   "metadata": {},
   "outputs": [],
   "source": [
    "GroupA.to_csv('/Users/kendrarhoades/Desktop/Data Science/DSO110 Final Project/Data/GroupA1')"
   ]
  },
  {
   "cell_type": "code",
   "execution_count": null,
   "id": "f6d70928",
   "metadata": {},
   "outputs": [],
   "source": []
  }
 ],
 "metadata": {
  "kernelspec": {
   "display_name": "Python 3 (ipykernel)",
   "language": "python",
   "name": "python3"
  },
  "language_info": {
   "codemirror_mode": {
    "name": "ipython",
    "version": 3
   },
   "file_extension": ".py",
   "mimetype": "text/x-python",
   "name": "python",
   "nbconvert_exporter": "python",
   "pygments_lexer": "ipython3",
   "version": "3.9.12"
  }
 },
 "nbformat": 4,
 "nbformat_minor": 5
}
