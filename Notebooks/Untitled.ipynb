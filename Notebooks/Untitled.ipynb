{
 "cells": [
  {
   "cell_type": "code",
   "execution_count": null,
   "id": "8e1e7b1e-cd36-4cbe-b3ea-d60d41103034",
   "metadata": {},
   "outputs": [],
   "source": []
  },
  {
   "cell_type": "markdown",
   "id": "50831a01-bab2-4c70-9f4c-0a93f215cf60",
   "metadata": {},
   "source": [
    "### Table of Contents <a class=\"anchor\" id=\"FP_toc\"></a>\n",
    "\n",
    "* [Table of Contents](#FP_toc)\n",
    "    * [Page 1 - Introduction](#FP_page_1)\n",
    "    * [Page 2 - Goals](#FP_page_2)\n",
    "    * [Page 3 - Data](#FP_page_3)\n",
    "    * [Page 4 - ](#FP_page_4)\n",
    "    * [Page 5 - ](#FP_page_5)\n",
    "    * [Page 6 - ](#FP_page_6)\n",
    "    * [Page 7 - ](#FP_page_7)\n",
    "    * [Page 8 - ](#FP_page_8)\n",
    "    * [Page 9 - ](#FP_page_9)\n",
    "    * [Page 10 -](#FP_page_10)\n",
    "    * [Page 11 -](#FP_page_11)"
   ]
  },
  {
   "cell_type": "code",
   "execution_count": null,
   "id": "bbc11112-799b-4d0a-b0af-85796eecea9d",
   "metadata": {},
   "outputs": [],
   "source": []
  },
  {
   "cell_type": "markdown",
   "id": "913b701d-69bf-4d22-b921-493b6e4d2f4d",
   "metadata": {},
   "source": [
    "<hr style=\"height:10px;border-width:0;color:gray;background-color:MediumAquamarine\">\n",
    "\n",
    "# Page 1 - Introduction <a class=\"anchor\" id=\"FP_page_1\"></a>\n",
    "\n",
    "[Back to Top](#FP_toc)\n",
    "\n",
    "<hr style=\"height:10px;border-width:0;color: gray;background-color:MediumAquamarine\">"
   ]
  },
  {
   "cell_type": "code",
   "execution_count": null,
   "id": "a08e0df5-da29-46ca-ba3d-6aa26e8eca0c",
   "metadata": {},
   "outputs": [],
   "source": []
  },
  {
   "cell_type": "markdown",
   "id": "a99a43e8-f140-4b1e-84a4-e7fe46826758",
   "metadata": {},
   "source": [
    "<hr style=\"height:10px;border-width:0;color:gray;background-color:MediumAquamarine\">\n",
    "\n",
    "# Page 2 - Goals <a class=\"anchor\" id=\"FP_page_2\"></a>\n",
    "\n",
    "[Back to Top](#FP_toc)\n",
    "\n",
    "<hr style=\"height:10px;border-width:0;color: gray;background-color:MediumAquamarine\">"
   ]
  },
  {
   "cell_type": "markdown",
   "id": "9ba0654f-b8f9-472d-a63f-a53386586b3f",
   "metadata": {},
   "source": [
    "My goals for this data is to be able to see if I can create a Machine Learning Algorithm that can accurately predict the amount of Sea Ice Thickness that will be lost. I have 2 sets of data Group and GroupA. Group is going to be my learning set while GroupA will be the set it predicts. I already know the amount of Sea Ice Thickness for GroupA so I will be able to see how accurate the code is based off the numbers the Machine Learning gives me vs the numbers that have already been cataloged. "
   ]
  },
  {
   "cell_type": "markdown",
   "id": "48bf3dfb-20b2-4e0d-a9c1-4381840161eb",
   "metadata": {},
   "source": [
    "<hr style=\"height:10px;border-width:0;color:gray;background-color:MediumAquamarine\">\n",
    "\n",
    "# Page 3 - Data <a class=\"anchor\" id=\"FP_page_3\"></a>\n",
    "\n",
    "[Back to Top](#FP_toc)\n",
    "\n",
    "<hr style=\"height:10px;border-width:0;color: gray;background-color:MediumAquamarine\">"
   ]
  },
  {
   "cell_type": "markdown",
   "id": "0475ae1f-8aae-4e1f-bd79-e31a3dca9a1a",
   "metadata": {},
   "source": [
    "The data I am using is from https://earth.gsfc.nasa.gov/cryo/data/antarctic-sea-ice-thickness . The data runs from October- November ’03 to February- March ’08. I will not be using all the data available during those months but instead breaking it up into 2 groups, Group and GroupA. Group will be October- November ’03 to May- June ’04 and GroupA will be March- April ’07 to February- March ’08. Group includes 1,728,977 rows of 6 variables and GroupA includes 997,691 rows of 6 variables. The variables include Time (in UTC from 1-1-2000 format), Latitude, Longitude, Sea Ice Freeboard, Sea Ice Thickness and Month/Day (in the Year/Month/Day HH:MM:SS format). Latitude and Longitude are both in the Polar Stereographic form and I am hoping to add another column that will list Lat/Lon in the Geodetic form. "
   ]
  },
  {
   "cell_type": "code",
   "execution_count": null,
   "id": "5abf7477-976f-4617-a9e1-efb2d8c9a893",
   "metadata": {},
   "outputs": [],
   "source": []
  }
 ],
 "metadata": {
  "kernelspec": {
   "display_name": "Python 3 (ipykernel)",
   "language": "python",
   "name": "python3"
  },
  "language_info": {
   "codemirror_mode": {
    "name": "ipython",
    "version": 3
   },
   "file_extension": ".py",
   "mimetype": "text/x-python",
   "name": "python",
   "nbconvert_exporter": "python",
   "pygments_lexer": "ipython3",
   "version": "3.9.12"
  }
 },
 "nbformat": 4,
 "nbformat_minor": 5
}
