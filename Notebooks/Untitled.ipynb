{
 "cells": [
  {
   "cell_type": "code",
   "execution_count": null,
   "id": "8e1e7b1e-cd36-4cbe-b3ea-d60d41103034",
   "metadata": {},
   "outputs": [],
   "source": []
  },
  {
   "cell_type": "markdown",
   "id": "50831a01-bab2-4c70-9f4c-0a93f215cf60",
   "metadata": {},
   "source": [
    "### Table of Contents <a class=\"anchor\" id=\"FP_toc\"></a>\n",
    "\n",
    "* [Table of Contents](#FP_toc)\n",
    "    * [Page 1 - Introduction](#FP_page_1)\n",
    "    * [Page 2 - Goals](#FP_page_2)\n",
    "    * [Page 3 - Data](#FP_page_3)\n",
    "    * [Page 4 - ](#FP_page_4)\n",
    "    * [Page 5 - ](#FP_page_5)\n",
    "    * [Page 6 - ](#FP_page_6)\n",
    "    * [Page 7 - ](#FP_page_7)\n",
    "    * [Page 8 - ](#FP_page_8)\n",
    "    * [Page 9 - ](#FP_page_9)\n",
    "    * [Page 10 -](#FP_page_10)\n",
    "    * [Page 11 -](#FP_page_11)"
   ]
  },
  {
   "cell_type": "code",
   "execution_count": null,
   "id": "bbc11112-799b-4d0a-b0af-85796eecea9d",
   "metadata": {},
   "outputs": [],
   "source": []
  },
  {
   "cell_type": "markdown",
   "id": "913b701d-69bf-4d22-b921-493b6e4d2f4d",
   "metadata": {},
   "source": [
    "<hr style=\"height:10px;border-width:0;color:gray;background-color:MediumAquamarine\">\n",
    "\n",
    "# Page 1 - Introduction <a class=\"anchor\" id=\"FP_page_1\"></a>\n",
    "\n",
    "[Back to Top](#FP_toc)\n",
    "\n",
    "<hr style=\"height:10px;border-width:0;color: gray;background-color:MediumAquamarine\">"
   ]
  },
  {
   "cell_type": "code",
   "execution_count": null,
   "id": "a08e0df5-da29-46ca-ba3d-6aa26e8eca0c",
   "metadata": {},
   "outputs": [],
   "source": []
  },
  {
   "cell_type": "markdown",
   "id": "a99a43e8-f140-4b1e-84a4-e7fe46826758",
   "metadata": {},
   "source": [
    "<hr style=\"height:10px;border-width:0;color:gray;background-color:MediumAquamarine\">\n",
    "\n",
    "# Page 2 - Goals <a class=\"anchor\" id=\"FP_page_2\"></a>\n",
    "\n",
    "[Back to Top](#FP_toc)\n",
    "\n",
    "<hr style=\"height:10px;border-width:0;color: gray;background-color:MediumAquamarine\">"
   ]
  },
  {
   "cell_type": "code",
   "execution_count": null,
   "id": "ea260560-1e92-41af-9bec-dc0f48b6e689",
   "metadata": {},
   "outputs": [],
   "source": []
  },
  {
   "cell_type": "markdown",
   "id": "48bf3dfb-20b2-4e0d-a9c1-4381840161eb",
   "metadata": {},
   "source": [
    "<hr style=\"height:10px;border-width:0;color:gray;background-color:MediumAquamarine\">\n",
    "\n",
    "# Page 3 - Data <a class=\"anchor\" id=\"FP_page_3\"></a>\n",
    "\n",
    "[Back to Top](#FP_toc)\n",
    "\n",
    "<hr style=\"height:10px;border-width:0;color: gray;background-color:MediumAquamarine\">"
   ]
  },
  {
   "cell_type": "code",
   "execution_count": null,
   "id": "d517a101-8a72-498e-8eb5-dc137cd31f34",
   "metadata": {},
   "outputs": [],
   "source": []
  }
 ],
 "metadata": {
  "kernelspec": {
   "display_name": "Python 3 (ipykernel)",
   "language": "python",
   "name": "python3"
  },
  "language_info": {
   "codemirror_mode": {
    "name": "ipython",
    "version": 3
   },
   "file_extension": ".py",
   "mimetype": "text/x-python",
   "name": "python",
   "nbconvert_exporter": "python",
   "pygments_lexer": "ipython3",
   "version": "3.9.12"
  }
 },
 "nbformat": 4,
 "nbformat_minor": 5
}
